{
  "nbformat": 4,
  "nbformat_minor": 0,
  "metadata": {
    "colab": {
      "provenance": [],
      "authorship_tag": "ABX9TyOTnxRWloop/Oru6WD/Hl9W",
      "include_colab_link": true
    },
    "kernelspec": {
      "name": "ir",
      "display_name": "R"
    },
    "language_info": {
      "name": "R"
    }
  },
  "cells": [
    {
      "cell_type": "markdown",
      "metadata": {
        "id": "view-in-github",
        "colab_type": "text"
      },
      "source": [
        "<a href=\"https://colab.research.google.com/github/PKvasnick/AdamOnda/blob/main/Adam_2023_07_03.ipynb\" target=\"_parent\"><img src=\"https://colab.research.google.com/assets/colab-badge.svg\" alt=\"Open In Colab\"/></a>"
      ]
    },
    {
      "cell_type": "markdown",
      "source": [
        "## Doučovanie - prvá lekcia\n",
        "pondelok 3. júl 2023\n",
        "\n",
        "Toto je Google Colab notebook. Žije na adrese https://colab.research.google.com, a odtiaľto ju sharujem pre vás. Google Colab je nestabilné úložisko, takže notebooky, ktoré budeme používať, budú ubytované na GitHube tu: https://github.com/PKvasnick/AdamOnda .\n",
        "\n",
        "### Ako pracovať s notebookom\n",
        "Na rozdiel od bežného súboru s kódom je notebook zložitejšia štruktúra, ktorá pozostáva z *_buniek_*, a to\n",
        "- textových - do ktorých môžete vkladať text s markdownovým formátovaním, a\n",
        "- kódových, do ktorých píšete kód a spúšťate ho kliknutím na šípku vľavo hore alebo stlačením Ctrl-Enter.\n",
        "\n",
        "Okrem toho sa v notebooku nachádza ešte tretí typ buniek, a to výsledky, získané zbehnutím kódu v bunke.\n",
        "\n",
        "V kontextovom menu hore nájdete ďalšie voľby pre prácu so súborom, napríklad spustenie celého kódu, export alebo tlač.\n",
        "\n",
        "Notebook používame preto, že doň môžeme písať obaja naraz. Okrem toho sú ale výhodné aj tým, že v nich máte pohoromade kód, súvisiaci text (napríklad, pre naše použitie, zadania príkladov a vysvetľujúci text) a výsledky.\n",
        "\n",
        "### Ako to funguje\n",
        "Na pozadí notebooku beží inštancia R, do ktorej sa po spustení kódu v bunke prenesie kód a spustí sa. Výsledky sa prenesú naspäť do notebooku. Podstatné je, že všetky bunky zdieľajú spoločnú inštanciu R, a teda spoločný menný priestor: teda objekty, ktoré definujete v jednej bunke, sú vidieteľné vo všetkých ostatných bunkách.\n",
        "Pretože nikde nie je zaručené, v akom poradí budete kód v bunkách spúšťať, môže sa stať, že interpret R dopletiete a zasekne sa, v takom prípade ho treba reštartovať.\n",
        "\n",
        "### Dnešný program\n",
        "Dnes máme prebrať kopu úvodných vecí, kým sa dostaneme k programovaniu.\n",
        "\n",
        "V rámci programovania preberieme základné veci - dátové typy, syntax príkazov, základné manipulácie s objetmi, atd.\n",
        "\n",
        "A dostanete aj domácu úlohu, pretože v programovaní sa znalosť ukladá v prstoch - počíta sa to, čo dokážete sám naprogramovať.\n",
        "\n",
        "### Pomoc\n",
        "Neexistujú žiadne obmedzenia na pramene, ktoré môžete použiť, keď sa dostanete do situácie, že neviete, ako ďalej. Stačí lámanou angličtinou napísať otázku do Googlu, a s veľkou pravdepodobnosťou dostanete rozumnú odpoveď.\n",
        "\n",
        "Úplne kľudne sa môžete opýtať ChatGPT: nie je neomylný, ale pravdepodobnosť, že dostanete blbú odpoveď je podobná ako pri pýtaní sa na Googli, ale v ChatGPT môžete svoj dopyt oveľa ľahšie upresniť.\n",
        "\n",
        "\n"
      ],
      "metadata": {
        "id": "5yKY_lIVdCUu"
      }
    },
    {
      "cell_type": "markdown",
      "source": [
        "# Úvod do programovania v R"
      ],
      "metadata": {
        "id": "TyV3Gi5uzkcp"
      }
    },
    {
      "cell_type": "markdown",
      "source": [
        "V bunkách notebooku môžete spúšťať ľubovoľný R kód."
      ],
      "metadata": {
        "id": "AMCmWNdKjw6Z"
      }
    },
    {
      "cell_type": "code",
      "execution_count": null,
      "metadata": {
        "id": "enLnel0MbyDG"
      },
      "outputs": [],
      "source": [
        "plot(cars)"
      ]
    },
    {
      "cell_type": "markdown",
      "source": [
        "\n",
        "#### Ukážkové dátové súbory v R\n",
        "\n",
        "Zjavne sme niečo nakreslili, ale čo je cars?\n",
        "\n",
        "Je to ukážkový dátový súbor, ktorý máte k dispozícii spolu so záklanými balíčkami pri spustení R.\n",
        "\n",
        "Recept Keď v R niečo stretnem a neviem čo to je, prvá vec, ktorú skúsim, je help(cars), Ctrl-Enter pre spustenie, a kuk doprava, kde sa zobrazil panel s vysvetlením.\n",
        "\n",
        "Aha, takže mám výsledky merania brzdnej dráhy v závislosti od počiatočnej rýchlosti vozidla spred 100 rokov. Všimnite si, ako help dokumentuje obsah polí.\n",
        "\n",
        "Poďme sa pozrieť, ako vyzerajú naše dáta:\n"
      ],
      "metadata": {
        "id": "AYd-182hnJLc"
      }
    },
    {
      "cell_type": "code",
      "source": [
        "help(cars)"
      ],
      "metadata": {
        "id": "i2PUuu9nnh4_"
      },
      "execution_count": 3,
      "outputs": []
    },
    {
      "cell_type": "code",
      "source": [
        "head(cars)"
      ],
      "metadata": {
        "id": "0vmRE90Anx_l"
      },
      "execution_count": null,
      "outputs": []
    },
    {
      "cell_type": "code",
      "source": [
        "nrow(cars)\n",
        "ncol(cars)"
      ],
      "metadata": {
        "id": "Haq_JHzqn9J3"
      },
      "execution_count": null,
      "outputs": []
    },
    {
      "cell_type": "markdown",
      "source": [
        "\n",
        "\n",
        "`head` preto, lebo nám stačí hlavička a niekoľko prvých riadkov.\n",
        "\n",
        "#### R data frame\n",
        "\n",
        "Vidíme tabuľku, vieme, že má 50 riadkov a 3 stĺpce.\n",
        "\n",
        "  - Stĺpec úplne vľavo nemá meno a volá sa index, slúži na jednoznačné označenie riadkov v tabuľke.\n",
        "  - Riadky zodpovedajú jednotlivým prípadom, pacientom, vzorkám.\n",
        "  - Stĺpce zodpovedajú vlastnostiam prípadov, pacientov, vzoriek.\n",
        "\n",
        "Toto je typický spôsob usporiadania dát pre štatistickú analýzu (nielen v R) a spotrebujeme dosť času, aby sme sa naučili svoje dáta takto usporiadať.\n",
        "\n",
        "#### Aká to je závislosť?\n",
        "\n",
        "Tak máme nejaké dáta, a čo to je za závislosť?\n"
      ],
      "metadata": {
        "id": "boii6nw4oBfW"
      }
    },
    {
      "cell_type": "code",
      "source": [
        "plot(cars)"
      ],
      "metadata": {
        "id": "XzGQjcc3pOsn"
      },
      "execution_count": null,
      "outputs": []
    },
    {
      "cell_type": "markdown",
      "source": [
        "**Úloha**: Ako uložíme obrázok do súboru? Spýtaj sa Googlu.\n",
        "\n",
        "**Tip**: Ak sa notebook začne chovať čudne, vždy pomôže Runtime -> Restart runtime, pričom si môžete vybrať, čo sa má stať po reštarte.\n",
        "\n",
        "\n",
        "Poďme si dáta nakresliť poriadne."
      ],
      "metadata": {
        "id": "ojXPYtWvpfSH"
      }
    },
    {
      "cell_type": "code",
      "source": [
        "plot(cars, xlab = \"Speed [mph]\", ylab = \"Stopping distance [ft]\", las = 1)\n",
        "lines(lowess(cars, f = 2/3, iter = 3), col = \"red\")\n",
        "title(main=\"Stopping distance vs. initial speed\")"
      ],
      "metadata": {
        "id": "l_PybwD0qBWi"
      },
      "execution_count": null,
      "outputs": []
    },
    {
      "cell_type": "markdown",
      "source": [
        "\n",
        "**Úloha**: Kto netuší čo je lowess, čo spraví?\n",
        "\n",
        "**Recept**: stĺpce dátovej tabuľky sú `data$<meno_stlpca>`\n",
        "\n",
        "Vyzerá to ako parabola, tak si to nakreslime v logaritmickej škále:\n"
      ],
      "metadata": {
        "id": "_8sridwqrii_"
      }
    },
    {
      "cell_type": "code",
      "source": [
        "plot(cars, xlab = \"Speed [mph]\", ylab = \"Stopping distance [ft]\", las = 1, log = \"xy\")\n",
        "lines(lowess(cars, f = 2/3, iter = 3), col = \"red\")\n",
        "title(main=\"Stopping distance vs. initial speed, log-log scale\")"
      ],
      "metadata": {
        "id": "q9Fy88XMsSSA"
      },
      "execution_count": null,
      "outputs": []
    },
    {
      "cell_type": "markdown",
      "source": [
        "**Úloha**: Funguje slovenská diakritika? Skúste poslovenčiť popisy osí.\n"
      ],
      "metadata": {
        "id": "Gp_bELvItHLr"
      }
    },
    {
      "cell_type": "code",
      "source": [
        "plot(cars, xlab = \"Počiatočná rýchlosť [míle / hod]\", ylab = \"Brzdná dráha [stopy]\", las = 1, log = \"xy\")\n",
        "lines(lowess(cars, f = 2/3, iter = 3), col = \"red\")\n",
        "title(main=\"Brzdná dráha v závislosti od počiatočnej rýchlosti, log-log škála\")\n",
        ""
      ],
      "metadata": {
        "id": "PfRn0qLztLBE"
      },
      "execution_count": null,
      "outputs": []
    },
    {
      "cell_type": "markdown",
      "source": [
        "Naša závislosť vyzerá ako priamka, tak skúsme dáta preložiť priamkou.\n",
        "\n",
        "POZOR začína štatistika!\n"
      ],
      "metadata": {
        "id": "Rm0bknnith3V"
      }
    },
    {
      "cell_type": "code",
      "source": [
        "fmL <- lm(log(dist) ~ log(speed), data = cars)\n",
        "summary(fmL)\n",
        "plot(fmL)"
      ],
      "metadata": {
        "id": "ZXMkDsxCtn-z"
      },
      "execution_count": null,
      "outputs": []
    },
    {
      "cell_type": "markdown",
      "source": [
        "Máme tu kopu výstupov.\n",
        "\n",
        "Z textového výstupu vidíme, že máme celkom dobrý model $d = e^{-0.73}v^{1.6}$\n",
        "\n",
        "**Tip**\n",
        "\n",
        "Ešte vidíme, že môžeme písať aj vzorce v TeX-ovej notácii, buď do riadku, napríklad $\\sigma^2=E(X^2) - E(X)^2$ alebo samostatne, napríklad\n",
        "$$\n",
        "\\chi^2(\\mathbf{x}) = \\frac{1}{n-1}\\sum^n_{i=1}(x_i-\\bar{x})^2\n",
        "$$"
      ],
      "metadata": {
        "id": "r_uUMeDkuyPo"
      }
    },
    {
      "cell_type": "markdown",
      "source": [
        "#### Záver úvodnej časti\n",
        "\n",
        "Na rozdiel od RStudia nejde takýto notebook vyrendrovať napríklad do pdf, ide ale vytlačiť.\n",
        "\n",
        "Grafy sa dajú ľahko kopírovať priamo z"
      ],
      "metadata": {
        "id": "LiZKKofEwV0v"
      }
    },
    {
      "cell_type": "markdown",
      "source": [
        "# Základy R"
      ],
      "metadata": {
        "id": "Kk91lb3zz8JM"
      }
    },
    {
      "cell_type": "markdown",
      "source": [
        "... čo bude trocha nudná, ale nutná časť. Žiadna štatistika, ale dátové typy, príkazy, definície.\n",
        "\n",
        "Tu si preberieme základné veci z programovania v R. Naučíme sa, aké objekty pozná R, a aké príkazy môžeme použiť pre manipuláciu objektov, teda pre výpočty v R."
      ],
      "metadata": {
        "id": "5L-Ep5Ol0Bd0"
      }
    },
    {
      "cell_type": "markdown",
      "source": [
        "#### Priradenie `<-`\n",
        "Reprezentácia reálnych čísel, čiže čísla s plávajúcou desatinnou čiarkou (float, v R trieda `numeric`).\n",
        "\n",
        "V R existujú viaceré *_znaky priradenia_*. Funguje *=*, *->*, ale aj *<-*, a špeciálny význam majú *<<-* a *->>* (Nechcete vedieť, čo robia). *=* slúži na mapovanie parametrov a v príkaze *case*, takže je slušné pre priradenie používať *<-*, hoci pre ľudí, ktorí programujú aj v inom jazyku, je ťažké občas nenapísať *=*. Vopred sa ospravedlňujem.\n"
      ],
      "metadata": {
        "id": "6JuMHdNd0XYr"
      }
    },
    {
      "cell_type": "code",
      "source": [
        "x <- 5.5 # toto je priradenie, hodnote x priradzujeme 5.5. = funguje tiež.\n",
        "x\n",
        "class(x)\n",
        "6.5 -> y # To sice vyzera sexy, ale je to len ozdoba.\n",
        "y"
      ],
      "metadata": {
        "id": "Gm_WP0cb1Oec"
      },
      "execution_count": null,
      "outputs": []
    },
    {
      "cell_type": "markdown",
      "source": [
        "#### Číselné typy\n",
        "\n",
        "`numeric` je generické číslo v R. Ale máme aj ďalšie typy:\n"
      ],
      "metadata": {
        "id": "uMQ1EBfo2hSU"
      }
    },
    {
      "cell_type": "code",
      "source": [
        "y <- 5\n",
        "class(y)\n",
        "y <- as.integer(5)\n",
        "class(y)\n",
        "is.integer(y)"
      ],
      "metadata": {
        "id": "7kuYTWJQ2rJl"
      },
      "execution_count": null,
      "outputs": []
    },
    {
      "cell_type": "markdown",
      "source": [
        "Celé číslo musíme ako také definovať.\n",
        "\n",
        "#### Znakové reťazce\n",
        "\"Základné\" (base) R nie je veľmi dobré v manipulácii s textom. Neskôr sa naučíme pracovať s knižnicou `stringr`, ktorá toho vie oveľa viac a dobre sa používa."
      ],
      "metadata": {
        "id": "0WPj-Lqu2_nK"
      }
    },
    {
      "cell_type": "code",
      "source": [
        "s <- \"Peter\"\n",
        "s == 'Peter' # Toto je znak logického porovnania. Treba odlišovať od =.\n",
        "class(s)\n",
        "substring(s, first=2, last=3)\n",
        "s <- sub(\"ete\", \"avo\", s)\n",
        "s\n",
        "substring(s, 1:3, 3:5)\n",
        "sprintf(\"%s má %d rokov.\", \"Peter\", 54)"
      ],
      "metadata": {
        "id": "TOq1RWx23Gvu"
      },
      "execution_count": null,
      "outputs": []
    },
    {
      "cell_type": "markdown",
      "source": [
        "#### Vektorizované funkcie\n",
        "\n",
        "substring je *vektorizovaná* funkcia - pre vektorový argument vráti vektor: Podobných funkcií máme v R veľa, a snažíme sa aj - tam, kde to je možné - písať vlastné funkcie tak, aby boli vektorové."
      ],
      "metadata": {
        "id": "5tte0ckF4NGT"
      }
    },
    {
      "cell_type": "code",
      "source": [
        "1:5\n",
        "sqrt(1:5) # nemusíme čísla odmocňovať po jednom\n",
        "vec <- c(1,2,3,4,5,6) # c() vytvara vektor\n",
        "vec\n",
        "sin(vec)"
      ],
      "metadata": {
        "id": "obIi5naZ4RtR"
      },
      "execution_count": null,
      "outputs": []
    },
    {
      "cell_type": "markdown",
      "source": [
        "#### Apropos\n",
        "máme v R konštantu $pi$?\n",
        "\n",
        "Už sme si ukázali funkciu `help`, a máme aj funkciu `apropos`:"
      ],
      "metadata": {
        "id": "ZelmL_X35G9E"
      }
    },
    {
      "cell_type": "code",
      "source": [
        "apropos(\"pi\")"
      ],
      "metadata": {
        "id": "8VAujwNj5cp_"
      },
      "execution_count": null,
      "outputs": []
    },
    {
      "cell_type": "markdown",
      "source": [
        "Aha, asi máme."
      ],
      "metadata": {
        "id": "zAQjBGwp5qbs"
      }
    },
    {
      "cell_type": "code",
      "source": [
        "help(pi) # a kuk doprava\n",
        "cos(pi)"
      ],
      "metadata": {
        "id": "5SLcWUQj5uhb"
      },
      "execution_count": null,
      "outputs": []
    },
    {
      "cell_type": "markdown",
      "source": [
        "#### Logické hodnoty a relačné operátory\n",
        "\n",
        "`TRUE` a `FALSE` sú jediné dve hodnoty triedy `logical`."
      ],
      "metadata": {
        "id": "t_SA9pZB57Yx"
      }
    },
    {
      "cell_type": "code",
      "source": [
        "class(TRUE)\n",
        "c(T,T,F,F) == c(T,F,T,F)\n",
        "c(T,T,F,F) & c(T,F,T,F)\n",
        "c(T,T,F,F) | c(T,F,T,F)"
      ],
      "metadata": {
        "id": "cLdgDCIC6CCG"
      },
      "execution_count": null,
      "outputs": []
    },
    {
      "cell_type": "markdown",
      "source": [
        "#### Vektory\n",
        "Už sme videli, že rady hodnôt môžeme ľahko vytvárať pomocou dvojbodkovej notácie. Tu sa zoznámime s funkciou `seq`:"
      ],
      "metadata": {
        "id": "8HmhZSvm6jsb"
      }
    },
    {
      "cell_type": "code",
      "source": [
        "1:3 == c(1,2,3)\n",
        "help(seq)\n",
        "vec1 <- seq(from = 1, to = 10, by = 3)\n",
        "vec1\n",
        "class(vec1)\n",
        "length(vec1)\n",
        "vec2 <- seq(from = 1, by = 2, length.out = 5)\n",
        "vec2\n",
        "vec3 <- seq(from = 1, to = 10, length.out = 4)\n",
        "vec3\n",
        "vec4 <- seq(from = 0, by = 1, along.with = vec3)\n",
        "vec4\n",
        "all.equal(vec1, vec3)\n",
        "ifelse(vec1>5,\"Yes\", \"No\")"
      ],
      "metadata": {
        "id": "AfiMG_Sj6p9I"
      },
      "execution_count": null,
      "outputs": []
    },
    {
      "cell_type": "markdown",
      "source": [
        "#### Zoznam\n",
        "v R je vektor s pomenovanými prvkami."
      ],
      "metadata": {
        "id": "PmD6xQiI7uvT"
      }
    },
    {
      "cell_type": "code",
      "source": [
        "vec <- 1:4\n",
        "names(vec) <- c(\"jeden\", \"dva\", \"tri\", \"štyri\")\n",
        "vec\n",
        "vec[\"jeden\"]\n",
        "vec[[\"jeden\"]]"
      ],
      "metadata": {
        "id": "8htmyAhd72sc"
      },
      "execution_count": null,
      "outputs": []
    },
    {
      "cell_type": "markdown",
      "source": [
        "#### Data frame\n",
        "je základná dátová tabuľka v R.\n",
        "* Logicky vzniká spojením zoznamov s rovnakými menami položiek (po riadkoch).\n",
        "* Fyzicky to je skôr zoznam vektorov (po stĺpcoch).\n",
        "\n",
        "Práve ukladanie po stĺpcoch umožňuje vysokú výkonnosť operácií nad veľkými tabuľkami.\n"
      ],
      "metadata": {
        "id": "gSdtzSva82zo"
      }
    },
    {
      "cell_type": "code",
      "source": [
        "x <- data.frame(\n",
        "  v1 = c(1,2,3,4),\n",
        "  v2 = as.integer(c(0,0,1,1)),\n",
        "  v3 = c(\"a\",\"b\",\"a\",\"b\")\n",
        ")\n",
        "x\n",
        "x$v1 # stlpec\n",
        "x$v2[2] # element\n",
        "x[2,\"v1\"] # element\n",
        "x[2,] # riadok\n",
        "x$v3\n",
        "is.factor(x$v3)\n",
        "nrow(x) # pocet riadkov\n",
        "ncol(x) # pocet stlpcov"
      ],
      "metadata": {
        "id": "MQl7HdhQ9Wrb"
      },
      "execution_count": null,
      "outputs": []
    },
    {
      "cell_type": "markdown",
      "source": [
        "#### Matice\n",
        "Matica je vektor, ktorý má navyše údaj, do koľkých riadkov a stĺpcov sa majú usporiadať jeho prvky.\n",
        "\n",
        "Tatko sa matica v R aj vytvára:"
      ],
      "metadata": {
        "id": "ctx4bCF4-e-1"
      }
    },
    {
      "cell_type": "code",
      "source": [
        "# Spôsob 1\n",
        "matrix(1:9, nrow = 3, ncol = 3)\n",
        "matrix(1:12, nrow = 3) # stačí jeden rozmer\n",
        "\n",
        "# Spôsob 2\n",
        "vec = 1:10\n",
        "dim(vec) = c(2,5) # dim je l-value, teda možno kedykoľvek zmeniť dimenziu matice\n",
        "vec\n",
        "\n",
        "# Spôsob 3\n",
        "cbind(c(1,2,3),c(4,5,6)) # ako column bind\n",
        "rbind(c(1,2,3),c(4,5,6)) # ako row bind"
      ],
      "metadata": {
        "id": "DXAu9Mrw_DxT"
      },
      "execution_count": null,
      "outputs": []
    },
    {
      "cell_type": "markdown",
      "source": [
        "Vidíme, že matice sa vytvárajú po stĺpcoch. To môžeme zmeniť pomocou parametra `byrow` v konštruktore:"
      ],
      "metadata": {
        "id": "CDXwqohB_kXF"
      }
    },
    {
      "cell_type": "code",
      "source": [
        "m <- matrix(1:9, nrow = 3, byrow = TRUE)\n",
        "m\n",
        "m[1,]\n",
        "m[,2]\n",
        "m[2,2]\n",
        "m[c(1,2), c(2,3)] # indexovanie je celkom flexibilné\n",
        "m[c(FALSE, TRUE, TRUE), c(TRUE, TRUE, FALSE)]\n",
        "m[m>5]\n",
        "mm <- matrix(1:9, nrow = 3, byrow = TRUE, dimnames = list(c(\"a\", \"b\", \"c\"), c(\"A\", \"B\", \"C\")))\n",
        "mm\n",
        "rownames(mm)\n",
        "colnames(mm)"
      ],
      "metadata": {
        "id": "h_bvVZzh_0-t"
      },
      "execution_count": null,
      "outputs": []
    },
    {
      "cell_type": "markdown",
      "source": [
        "`rownames` a `colnames` sú l-hodnoty, teda možno im priradzovať.\n"
      ],
      "metadata": {
        "id": "HWAmUjodBrUt"
      }
    },
    {
      "cell_type": "markdown",
      "source": [
        "#### Maticové operácie\n",
        "\n",
        "**1. Pridávanie a odoberanie riadkov a stĺpcov**"
      ],
      "metadata": {
        "id": "ExKP1P5SAOkw"
      }
    },
    {
      "cell_type": "code",
      "source": [
        "m <- matrix(1:9, nrow = 3, byrow = TRUE)\n",
        "m\n",
        "cbind(m, c(11, 12, 13)) # pridanie stĺpca\n",
        "rbind(m, c(-1, -2, -3)) # pridanie riadku\n",
        "m <- m[c(1,2),]         # odstránenie riadku\n",
        "m\n",
        "m <- m[,c(1,3)]         # odstránenie stĺpca\n",
        "m"
      ],
      "metadata": {
        "id": "vtoJsAsJFfvW"
      },
      "execution_count": null,
      "outputs": []
    },
    {
      "cell_type": "markdown",
      "source": [
        "**2. Sčítanie a odčítanie**\n",
        "\n",
        "Používame bežné operátory + a -, matice musia mať rovnaký tvar.\n",
        "\n",
        "**3. Násobenie**\n",
        "\n",
        "Operátor maticového násobenia je %*%, operátor * je operátor Kroneckerovho súčinu (po prvkoch)"
      ],
      "metadata": {
        "id": "J0yCjgQdIHjO"
      }
    },
    {
      "cell_type": "code",
      "source": [
        "m1 <- matrix(1:9, ncol = 3)\n",
        "m1\n",
        "m2 <- matrix(1:6, nrow = 3)\n",
        "m2\n",
        "m1 * m1\n",
        "m1 %*% m2"
      ],
      "metadata": {
        "id": "lBuJ-ccVIqeA"
      },
      "execution_count": null,
      "outputs": []
    },
    {
      "cell_type": "markdown",
      "source": [
        "Podobne operátor / je operátor delenia po prvkoch.\n",
        "\n",
        "**4. Transpozícia a stopa**\n",
        "\n",
        "`t(m)` vráti transponovanú maticu `m`.\n",
        "`tr(m)` vráti stopu matice `m`, teda súčet diagonálnych prvkov.\n",
        "\n",
        "**5. Inverzia**\n",
        "\n",
        "`solve(m)` vráti inverznú maticu k `m` (ak existuje).\n",
        "\n",
        "**6. Vlastné hodnoty a vlastné vektory**\n",
        "\n",
        "`eigen(m)` vráti vlastné hodnoty i vlastné vektory (vhodnej) matice `m`.\n"
      ],
      "metadata": {
        "id": "0V8Vzc4wK1tB"
      }
    }
  ]
}