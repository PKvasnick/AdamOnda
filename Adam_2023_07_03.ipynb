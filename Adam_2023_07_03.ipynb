{
  "nbformat": 4,
  "nbformat_minor": 0,
  "metadata": {
    "colab": {
      "provenance": [],
      "authorship_tag": "ABX9TyPr2+qRHCz6ZLdsbJcTNADZ",
      "include_colab_link": true
    },
    "kernelspec": {
      "name": "ir",
      "display_name": "R"
    },
    "language_info": {
      "name": "R"
    }
  },
  "cells": [
    {
      "cell_type": "markdown",
      "metadata": {
        "id": "view-in-github",
        "colab_type": "text"
      },
      "source": [
        "<a href=\"https://colab.research.google.com/github/PKvasnick/AdamOnda/blob/main/Adam_2023_07_03.ipynb\" target=\"_parent\"><img src=\"https://colab.research.google.com/assets/colab-badge.svg\" alt=\"Open In Colab\"/></a>"
      ]
    },
    {
      "cell_type": "markdown",
      "source": [
        "## Doučovanie - prvá lekcia\n",
        "pondelok 3. júl 2023\n",
        "\n",
        "Toto je Google Colab notebook. Žije na adrese https://colab.research.google.com, ale ubytovaný je na GitHube"
      ],
      "metadata": {
        "id": "5yKY_lIVdCUu"
      }
    },
    {
      "cell_type": "code",
      "execution_count": null,
      "metadata": {
        "id": "enLnel0MbyDG"
      },
      "outputs": [],
      "source": []
    }
  ]
}